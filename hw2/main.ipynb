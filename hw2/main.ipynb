{
 "cells": [
  {
   "cell_type": "markdown",
   "metadata": {},
   "source": [
    "# ML Homework2\n",
    "#### 0756021 張逸群"
   ]
  },
  {
   "cell_type": "code",
   "execution_count": 1,
   "metadata": {},
   "outputs": [],
   "source": [
    "%load_ext autoreload\n",
    "%autoreload 2\n",
    "\n",
    "import numpy as np\n",
    "from scipy.special import comb\n",
    "import matplotlib.pyplot as plt\n",
    "%matplotlib inline"
   ]
  },
  {
   "cell_type": "markdown",
   "metadata": {},
   "source": [
    "## Load Data"
   ]
  },
  {
   "cell_type": "code",
   "execution_count": 2,
   "metadata": {},
   "outputs": [],
   "source": [
    "def read_images(filename):\n",
    "    with open(filename, 'rb') as f:\n",
    "        # check magic number\n",
    "        if int.from_bytes(f.read(4), byteorder='big', signed=True) != 0x803:\n",
    "            raise IOError('File Magic Number Error')\n",
    "        \n",
    "        number_images = int.from_bytes(f.read(4), byteorder='big', signed=True)\n",
    "        number_rows = int.from_bytes(f.read(4), byteorder='big', signed=True)\n",
    "        number_columns = int.from_bytes(f.read(4), byteorder='big', signed=True)\n",
    "        \n",
    "        images_bytes = f.read()\n",
    "    \n",
    "    images = np.frombuffer(images_bytes, dtype=np.uint8)\n",
    "    images = images.reshape(number_images, number_rows, number_columns)\n",
    "    return images"
   ]
  },
  {
   "cell_type": "code",
   "execution_count": 3,
   "metadata": {},
   "outputs": [],
   "source": [
    "def read_labels(filename):\n",
    "    with open(filename, 'rb') as f:\n",
    "        # check magic number\n",
    "        if int.from_bytes(f.read(4), byteorder='big', signed=True) != 0x801:\n",
    "            raise IOError('File Magic Number Error')\n",
    "        \n",
    "        number_items = int.from_bytes(f.read(4), byteorder='big', signed=True)\n",
    "        labels_bytes = f.read()\n",
    "    \n",
    "    labels = np.frombuffer(labels_bytes, dtype=np.uint8)\n",
    "    return labels"
   ]
  },
  {
   "cell_type": "code",
   "execution_count": 4,
   "metadata": {},
   "outputs": [],
   "source": [
    "X_train = read_images('./train-images-idx3-ubyte')\n",
    "y_train = read_labels('./train-labels-idx1-ubyte')\n",
    "X_test = read_images('./t10k-images-idx3-ubyte')\n",
    "y_test = read_labels('./t10k-labels-idx1-ubyte')"
   ]
  },
  {
   "cell_type": "code",
   "execution_count": 5,
   "metadata": {},
   "outputs": [
    {
     "data": {
      "image/png": "[encoded data removed]",
      "text/plain": [
       "<Figure size 1440x720 with 5 Axes>"
      ]
     },
     "metadata": {
      "needs_background": "light"
     },
     "output_type": "display_data"
    }
   ],
   "source": [
    "fig, axes = plt.subplots(nrows=1, ncols=5, sharey=True, figsize=(20, 10))\n",
    "for i, ax in enumerate(axes):\n",
    "    ax.imshow(X_train[i])\n",
    "    ax.set_title(y_train[i])"
   ]
  },
  {
   "cell_type": "markdown",
   "metadata": {},
   "source": [
    "## Model Define"
   ]
  },
  {
   "cell_type": "markdown",
   "metadata": {},
   "source": [
    "![gaussian function](https://wikimedia.org/api/rest_v1/media/math/render/svg/8aa9ff808602c27f1d9d63d7b2c115388a34f190)"
   ]
  },
  {
   "cell_type": "code",
   "execution_count": 6,
   "metadata": {},
   "outputs": [],
   "source": [
    "def gaussian_function1d(x, mean, var, epsilon=1e-7):\n",
    "    x = np.array(x)\n",
    "    if not isinstance(mean, (list, np.ndarray)):\n",
    "        mean = [mean] * x.shape[0]\n",
    "    if not isinstance(var, (list, np.ndarray)):\n",
    "        var = [var] * x.shape[0]\n",
    "    mean, var =  np.array(mean), np.array(var)\n",
    "    \n",
    "    var = var + epsilon\n",
    "\n",
    "    return np.exp(-0.5 * np.square(x - mean) / var ) / np.sqrt(var * 2. *np.pi)"
   ]
  },
  {
   "cell_type": "code",
   "execution_count": 7,
   "metadata": {},
   "outputs": [],
   "source": [
    "class NaiveBayesClassifier:\n",
    "    def __init__(self, discrete=True):\n",
    "        self.discrete = discrete\n",
    "        \n",
    "        self._unique_label = None\n",
    "        self._likelihood = None\n",
    "        self._prior = None\n",
    "        \n",
    "        self._likelihood_means = None\n",
    "        self._likelihood_vars = None\n",
    "    \n",
    "    def _discrete_fit(self, X, y):\n",
    "        # do bining\n",
    "        X = X / 8\n",
    "        X = X.astype(np.uint8)\n",
    "        X = X.reshape(X.shape[0], -1)\n",
    "        \n",
    "        self._unique_label, y, self._prior = np.unique(y, return_inverse=True, return_counts=True)\n",
    "        self._prior = self._prior / self._prior.sum()\n",
    "        number_unique_labels = self._unique_label.shape[0]\n",
    "        self._likelihood = np.zeros((X.shape[1], 32, number_unique_labels))\n",
    "        \n",
    "        # calculate likelihood\n",
    "        for index_label, label in enumerate(self._unique_label):\n",
    "            X_match = X[y == label] # (n_sample, n_feature)\n",
    "            X_histogram = np.apply_along_axis(lambda a: np.histogram(a, bins=np.arange(33))[0], 0, X_match) # (32, n_feature)\n",
    "            # normalize\n",
    "            X_histogram = np.apply_along_axis(lambda a: a / a.sum(), 0, X_histogram)\n",
    "            self._likelihood[:, :, index_label] = np.swapaxes(X_histogram, 0, 1)\n",
    "        \n",
    "        return self\n",
    "    \n",
    "    def _continuous_fit(self, X, y):\n",
    "        # don't do bining\n",
    "        X = X.astype(np.float32)\n",
    "        X = X.reshape(X.shape[0], -1)\n",
    "        \n",
    "        self._unique_label, y, self._prior = np.unique(y, return_inverse=True, return_counts=True)\n",
    "        self._prior = self._prior / self._prior.sum()\n",
    "        number_unique_labels = self._unique_label.shape[0]\n",
    "        \n",
    "        # calculate mean variance\n",
    "        self._likelihood_means = np.zeros((X.shape[1], number_unique_labels))\n",
    "        self._likelihood_vars = np.zeros((X.shape[1], number_unique_labels))\n",
    "        for index_label, label in enumerate(self._unique_label):\n",
    "            X_match = X[y == label]\n",
    "            self._likelihood_means[:, index_label] = np.apply_along_axis(lambda a: a.mean(), 0, X_match)\n",
    "            self._likelihood_vars[:, index_label] = np.apply_along_axis(lambda a: a.var(), 0, X_match)\n",
    "            \n",
    "        return self\n",
    "    \n",
    "    def _discrete_predict(self, X, return_postirior=False, epsilon=1e-7):\n",
    "        # do bining\n",
    "        X = X / 8\n",
    "        X = X.astype(np.uint8)\n",
    "        X = X.reshape(X.shape[0], -1)\n",
    "        \n",
    "        # calculate postirior\n",
    "        postiriors = np.zeros((X.shape[0], self._unique_label.shape[0]))\n",
    "        \n",
    "        for index_x, xi in enumerate(X):\n",
    "            for index_label, label in enumerate(self._unique_label):\n",
    "                likelihood = -np.log((self._likelihood[:, :, index_label])[[np.arange(xi.shape[0]), xi]] + epsilon).sum()\n",
    "                postiriors[index_x, index_label] = likelihood + self._prior[index_label]\n",
    "                \n",
    "        # marginalize\n",
    "        postiriors = np.apply_along_axis(lambda a: a / a.sum(), 1, postiriors)\n",
    "        \n",
    "        predictions = self._unique_label[np.argmin(postiriors, axis=1)]\n",
    "        if return_postirior:\n",
    "            return predictions, postiriors\n",
    "        return predictions\n",
    "\n",
    "    def _continuous_predict(self, X, return_postirior=False, epsilon=1e-7):\n",
    "        # don't do bining\n",
    "        X = X.astype(np.float32)\n",
    "        X = X.reshape(X.shape[0], -1)\n",
    "        \n",
    "        # calculate postirior\n",
    "        postiriors = np.zeros((X.shape[0], self._unique_label.shape[0]))\n",
    "        \n",
    "        for index_x, xi in enumerate(X):\n",
    "            for index_label, label in enumerate(self._unique_label):\n",
    "                likelihood = -np.log(gaussian_function1d(xi, self._likelihood_means[:, index_label], self._likelihood_vars[:, index_label]) + epsilon).sum()\n",
    "                postiriors[index_x, index_label] = likelihood + self._prior[index_label]\n",
    "                \n",
    "        # marginalize\n",
    "        postiriors = np.apply_along_axis(lambda a: a / a.sum(), 1, postiriors)\n",
    "        \n",
    "        predictions = self._unique_label[np.argmin(postiriors, axis=1)]\n",
    "        if return_postirior:\n",
    "            return predictions, postiriors\n",
    "        return predictions\n",
    "    \n",
    "    def fit(self, X, y):\n",
    "        if self.discrete:\n",
    "            return self._discrete_fit(X, y)\n",
    "        return self._continuous_fit(X, y)\n",
    "        \n",
    "    def predict(self, X, return_postirior=False):\n",
    "        if self.discrete:\n",
    "            return self._discrete_predict(X, return_postirior)\n",
    "        return self._continuous_predict(X, return_postirior)\n",
    "    \n",
    "    def score(self, X, y):\n",
    "        y_true = y\n",
    "        y_pred = self.predict(X)\n",
    "        return (y_true == y_pred).sum() / y_true.shape[0]\n",
    "    \n",
    "    def print_result(self, X, y):\n",
    "        predictions, postiriors = self.predict(X, return_postirior=True)\n",
    "        unique_label = clf._unique_label\n",
    "\n",
    "        for true, pred, post in zip(y, predictions, postiriors):\n",
    "            print('Postirior (in log scale):')\n",
    "            for i in range(10):\n",
    "                print('{}: {}'.format(i, post[np.argwhere(unique_label == i)][0][0]))\n",
    "            print('Prediction: {}, Ans: {}'.format(pred, true))\n",
    "            print()\n",
    "\n",
    "        print('Imagination of numbers in Bayesian classifier:')\n",
    "        fig, axes = plt.subplots(ncols=5, nrows=2, sharex=True, sharey=True, figsize=(20, 8))\n",
    "        if self.discrete:\n",
    "            for i, ax in enumerate(axes.flatten()):\n",
    "                white = self._likelihood[:, -16:, np.argwhere(unique_label == i)[0][0]].sum(axis=1)\n",
    "                black = self._likelihood[:, :-16, np.argwhere(unique_label == i)[0][0]].sum(axis=1)\n",
    "                ax.imshow((white > black).reshape(28, 28))\n",
    "            plt.show()\n",
    "        else:\n",
    "            for i, ax in enumerate(axes.flatten()):\n",
    "                lable_index = np.argwhere(unique_label == i)[0][0]\n",
    "                number_features = self._likelihood_means.shape[0]\n",
    "                white = np.zeros((28*28, ))\n",
    "                black = np.zeros((28*28, ))\n",
    "                for i in range(128):\n",
    "                    black = black + gaussian_function1d(np.ones(number_features)*i, self._likelihood_means[:, lable_index], self._likelihood_vars[:, lable_index])\n",
    "                for i in range(128, 256):\n",
    "                    white = white + gaussian_function1d(np.ones(number_features)*i, self._likelihood_means[:, lable_index], self._likelihood_vars[:, lable_index])\n",
    "                    \n",
    "                ax.imshow((white > black).reshape(28, 28))\n",
    "            plt.show()"
   ]
  },
  {
   "cell_type": "markdown",
   "metadata": {},
   "source": [
    "## Discrete Mode"
   ]
  },
  {
   "cell_type": "code",
   "execution_count": 8,
   "metadata": {},
   "outputs": [
    {
     "data": {
      "text/plain": [
       "<__main__.NaiveBayesClassifier at 0x7f6f77120518>"
      ]
     },
     "execution_count": 8,
     "metadata": {},
     "output_type": "execute_result"
    }
   ],
   "source": [
    "clf = NaiveBayesClassifier()\n",
    "clf.fit(X_train, y_train)"
   ]
  },
  {
   "cell_type": "markdown",
   "metadata": {},
   "source": [
    "### Result"
   ]
  },
  {
   "cell_type": "code",
   "execution_count": 9,
   "metadata": {},
   "outputs": [
    {
     "name": "stderr",
     "output_type": "stream",
     "text": [
      "/home/toosyou/.local/lib/python3.6/site-packages/ipykernel_launcher.py:63: FutureWarning: Using a non-tuple sequence for multidimensional indexing is deprecated; use `arr[tuple(seq)]` instead of `arr[seq]`. In the future this will be interpreted as an array index, `arr[np.array(seq)]`, which will result either in an error or a different result.\n"
     ]
    },
    {
     "name": "stdout",
     "output_type": "stream",
     "text": [
      "Postirior (in log scale):\n",
      "0: 0.11167071358562611\n",
      "1: 0.12885145433589454\n",
      "2: 0.10717882425073756\n",
      "3: 0.09787998700706964\n",
      "4: 0.0919469152442608\n",
      "5: 0.09433743186440392\n",
      "6: 0.12188630730714606\n",
      "7: 0.06994659050239357\n",
      "8: 0.09524303012127473\n",
      "9: 0.08105874578119314\n",
      "Prediction: 7, Ans: 7\n",
      "\n",
      "Postirior (in log scale):\n",
      "0: 0.099064350444062\n",
      "1: 0.10948544576876561\n",
      "2: 0.0762216645792322\n",
      "3: 0.08849210429989515\n",
      "4: 0.10802791681076096\n",
      "5: 0.08975745350808305\n",
      "6: 0.08627219824579208\n",
      "7: 0.1279230031642965\n",
      "8: 0.09570605803757833\n",
      "9: 0.11904980514153404\n",
      "Prediction: 2, Ans: 2\n",
      "\n",
      "Postirior (in log scale):\n",
      "0: 0.1280027475641862\n",
      "1: 0.06286148462073891\n",
      "2: 0.0976931203520886\n",
      "3: 0.0996913755417919\n",
      "4: 0.10254390193042452\n",
      "5: 0.09563860060416138\n",
      "6: 0.10251259952165857\n",
      "7: 0.1060605036545661\n",
      "8: 0.09938350538338815\n",
      "9: 0.1056121608269956\n",
      "Prediction: 1, Ans: 1\n",
      "\n",
      "Imagination of numbers in Bayesian classifier:\n"
     ]
    },
    {
     "data": {
      "image/png": "[encoded data removed]",
      "text/plain": [
       "<Figure size 1440x576 with 10 Axes>"
      ]
     },
     "metadata": {
      "needs_background": "light"
     },
     "output_type": "display_data"
    },
    {
     "name": "stdout",
     "output_type": "stream",
     "text": [
      "Training error rate: 0.136, Testing error rate: 0.149\n"
     ]
    }
   ],
   "source": [
    "clf.print_result(X_test[:3], y_test[:3])\n",
    "print('Training error rate: {:.3f}, Testing error rate: {:.3f}'.format(1. - clf.score(X_train, y_train), 1. - clf.score(X_test, y_test)))"
   ]
  },
  {
   "cell_type": "markdown",
   "metadata": {},
   "source": [
    "## Continuous Mode"
   ]
  },
  {
   "cell_type": "code",
   "execution_count": 10,
   "metadata": {},
   "outputs": [
    {
     "data": {
      "text/plain": [
       "<__main__.NaiveBayesClassifier at 0x7f6f77103898>"
      ]
     },
     "execution_count": 10,
     "metadata": {},
     "output_type": "execute_result"
    }
   ],
   "source": [
    "clf = NaiveBayesClassifier(discrete=False)\n",
    "clf.fit(X_train, y_train)"
   ]
  },
  {
   "cell_type": "code",
   "execution_count": 11,
   "metadata": {},
   "outputs": [
    {
     "name": "stdout",
     "output_type": "stream",
     "text": [
      "Postirior (in log scale):\n",
      "0: 0.09988498023614496\n",
      "1: 0.09525875830255805\n",
      "2: 0.13852338499939132\n",
      "3: 0.10449948421022329\n",
      "4: 0.10646129291419569\n",
      "5: 0.1117968909009327\n",
      "6: 0.1081796101716324\n",
      "7: 0.08262408014038905\n",
      "8: 0.08696636287389643\n",
      "9: 0.06580515525063611\n",
      "Prediction: 9, Ans: 7\n",
      "\n",
      "Postirior (in log scale):\n",
      "0: 0.09011019884646337\n",
      "1: 0.08495849664074767\n",
      "2: 0.10459712998924398\n",
      "3: 0.09708815155345259\n",
      "4: 0.12089922864706336\n",
      "5: 0.10457492981843286\n",
      "6: 0.0761034777182016\n",
      "7: 0.13176854874399602\n",
      "8: 0.08871606439091229\n",
      "9: 0.10118377365148645\n",
      "Prediction: 6, Ans: 2\n",
      "\n",
      "Postirior (in log scale):\n",
      "0: 0.10867806324752165\n",
      "1: 0.04386247018149467\n",
      "2: 0.1389968357239162\n",
      "3: 0.1119316326135451\n",
      "4: 0.11711852750284969\n",
      "5: 0.11667529009419778\n",
      "6: 0.08811956392432992\n",
      "7: 0.10995948285973853\n",
      "8: 0.0883556656392217\n",
      "9: 0.07630246821318454\n",
      "Prediction: 1, Ans: 1\n",
      "\n",
      "Imagination of numbers in Bayesian classifier:\n"
     ]
    },
    {
     "data": {
      "image/png": "[encoded data removed]",
      "text/plain": [
       "<Figure size 1440x576 with 10 Axes>"
      ]
     },
     "metadata": {
      "needs_background": "light"
     },
     "output_type": "display_data"
    },
    {
     "name": "stdout",
     "output_type": "stream",
     "text": [
      "Training error rate: 0.581, Testing error rate: 0.579\n"
     ]
    }
   ],
   "source": [
    "clf.print_result(X_test[:3], y_test[:3])\n",
    "print('Training error rate: {:.3f}, Testing error rate: {:.3f}'.format(1. - clf.score(X_train, y_train), 1. - clf.score(X_test, y_test)))"
   ]
  },
  {
   "cell_type": "markdown",
   "metadata": {
    "slideshow": {
     "slide_type": "-"
    }
   },
   "source": [
    "## Online Learning"
   ]
  },
  {
   "cell_type": "markdown",
   "metadata": {},
   "source": [
    "## Load Data"
   ]
  },
  {
   "cell_type": "code",
   "execution_count": 12,
   "metadata": {},
   "outputs": [
    {
     "name": "stdout",
     "output_type": "stream",
     "text": [
      "['0101010101001011010101', '0110101', '010110101101', '0101101011101011010', '111101100011110', '101110111000110', '1010010111', '11101110110', '01000111101', '110100111', '01101010111']\n"
     ]
    }
   ],
   "source": [
    "with open('testfile.txt', 'r') as f:\n",
    "    coin_sequences = [ s.strip('\\n') for s in f.readlines() ] # read file and remove \\n\n",
    "print(coin_sequences)"
   ]
  },
  {
   "cell_type": "markdown",
   "metadata": {},
   "source": [
    "## Result"
   ]
  },
  {
   "cell_type": "code",
   "execution_count": 35,
   "metadata": {},
   "outputs": [],
   "source": [
    "def coin_likelihood(sequence):\n",
    "    head_count = sequence.count('1')\n",
    "    tail_count = sequence.count('0')\n",
    "    p = head_count / (head_count + tail_count)\n",
    "    return comb(head_count+tail_count, head_count, ) * np.power(p, head_count) * np.power(1.-p, tail_count)"
   ]
  },
  {
   "cell_type": "code",
   "execution_count": 36,
   "metadata": {},
   "outputs": [
    {
     "name": "stdout",
     "output_type": "stream",
     "text": [
      "case 0: 0101010101001011010101\n",
      "Likelihood: 0.16818809509277344\n",
      "Beta prior:     a = 0  b = 0\n",
      "Beta posterior: a = 11  b = 11\n",
      "\n",
      "case 1: 0110101\n",
      "Likelihood: 0.29375515303997485\n",
      "Beta prior:     a = 11  b = 11\n",
      "Beta posterior: a = 15  b = 14\n",
      "\n",
      "case 2: 010110101101\n",
      "Likelihood: 0.2286054241794335\n",
      "Beta prior:     a = 15  b = 14\n",
      "Beta posterior: a = 22  b = 19\n",
      "\n",
      "case 3: 0101101011101011010\n",
      "Likelihood: 0.18286870706509092\n",
      "Beta prior:     a = 22  b = 19\n",
      "Beta posterior: a = 33  b = 27\n",
      "\n",
      "case 4: 111101100011110\n",
      "Likelihood: 0.2143070548857833\n",
      "Beta prior:     a = 33  b = 27\n",
      "Beta posterior: a = 43  b = 32\n",
      "\n",
      "case 5: 101110111000110\n",
      "Likelihood: 0.20659760529408\n",
      "Beta prior:     a = 43  b = 32\n",
      "Beta posterior: a = 52  b = 38\n",
      "\n",
      "case 6: 1010010111\n",
      "Likelihood: 0.25082265600000003\n",
      "Beta prior:     a = 52  b = 38\n",
      "Beta posterior: a = 58  b = 42\n",
      "\n",
      "case 7: 11101110110\n",
      "Likelihood: 0.2619678932864457\n",
      "Beta prior:     a = 58  b = 42\n",
      "Beta posterior: a = 66  b = 45\n",
      "\n",
      "case 8: 01000111101\n",
      "Likelihood: 0.23609128871506807\n",
      "Beta prior:     a = 66  b = 45\n",
      "Beta posterior: a = 72  b = 50\n",
      "\n",
      "case 9: 110100111\n",
      "Likelihood: 0.27312909617436365\n",
      "Beta prior:     a = 72  b = 50\n",
      "Beta posterior: a = 78  b = 53\n",
      "\n",
      "case 10: 01101010111\n",
      "Likelihood: 0.24384881449471862\n",
      "Beta prior:     a = 78  b = 53\n",
      "Beta posterior: a = 85  b = 57\n",
      "\n"
     ]
    }
   ],
   "source": [
    "A, B = 0, 0\n",
    "for i, cs in enumerate(coin_sequences):\n",
    "    print('case {}: {}'.format(i, cs))\n",
    "    print('Likelihood:', coin_likelihood(cs))\n",
    "    print('Beta prior:     a = {}  b = {}'.format(A, B))\n",
    "    A, B = A+cs.count('1'), B+cs.count('0')\n",
    "    print('Beta posterior: a = {}  b = {}'.format(A, B))\n",
    "    print()"
   ]
  },
  {
   "cell_type": "code",
   "execution_count": 37,
   "metadata": {},
   "outputs": [
    {
     "name": "stdout",
     "output_type": "stream",
     "text": [
      "case 0: 0101010101001011010101\n",
      "Likelihood: 0.16818809509277344\n",
      "Beta prior:     a = 10  b = 1\n",
      "Beta posterior: a = 21  b = 12\n",
      "\n",
      "case 1: 0110101\n",
      "Likelihood: 0.29375515303997485\n",
      "Beta prior:     a = 21  b = 12\n",
      "Beta posterior: a = 25  b = 15\n",
      "\n",
      "case 2: 010110101101\n",
      "Likelihood: 0.2286054241794335\n",
      "Beta prior:     a = 25  b = 15\n",
      "Beta posterior: a = 32  b = 20\n",
      "\n",
      "case 3: 0101101011101011010\n",
      "Likelihood: 0.18286870706509092\n",
      "Beta prior:     a = 32  b = 20\n",
      "Beta posterior: a = 43  b = 28\n",
      "\n",
      "case 4: 111101100011110\n",
      "Likelihood: 0.2143070548857833\n",
      "Beta prior:     a = 43  b = 28\n",
      "Beta posterior: a = 53  b = 33\n",
      "\n",
      "case 5: 101110111000110\n",
      "Likelihood: 0.20659760529408\n",
      "Beta prior:     a = 53  b = 33\n",
      "Beta posterior: a = 62  b = 39\n",
      "\n",
      "case 6: 1010010111\n",
      "Likelihood: 0.25082265600000003\n",
      "Beta prior:     a = 62  b = 39\n",
      "Beta posterior: a = 68  b = 43\n",
      "\n",
      "case 7: 11101110110\n",
      "Likelihood: 0.2619678932864457\n",
      "Beta prior:     a = 68  b = 43\n",
      "Beta posterior: a = 76  b = 46\n",
      "\n",
      "case 8: 01000111101\n",
      "Likelihood: 0.23609128871506807\n",
      "Beta prior:     a = 76  b = 46\n",
      "Beta posterior: a = 82  b = 51\n",
      "\n",
      "case 9: 110100111\n",
      "Likelihood: 0.27312909617436365\n",
      "Beta prior:     a = 82  b = 51\n",
      "Beta posterior: a = 88  b = 54\n",
      "\n",
      "case 10: 01101010111\n",
      "Likelihood: 0.24384881449471862\n",
      "Beta prior:     a = 88  b = 54\n",
      "Beta posterior: a = 95  b = 58\n",
      "\n"
     ]
    }
   ],
   "source": [
    "A, B = 10, 1\n",
    "for i, cs in enumerate(coin_sequences):\n",
    "    print('case {}: {}'.format(i, cs))\n",
    "    print('Likelihood:', coin_likelihood(cs))\n",
    "    print('Beta prior:     a = {}  b = {}'.format(A, B))\n",
    "    A, B = A+cs.count('1'), B+cs.count('0')\n",
    "    print('Beta posterior: a = {}  b = {}'.format(A, B))\n",
    "    print()"
   ]
  },
  {
   "cell_type": "code",
   "execution_count": null,
   "metadata": {},
   "outputs": [],
   "source": []
  }
 ],
 "metadata": {
  "kernelspec": {
   "display_name": "Python 3",
   "language": "python",
   "name": "python3"
  },
  "language_info": {
   "codemirror_mode": {
    "name": "ipython",
    "version": 3
   },
   "file_extension": ".py",
   "mimetype": "text/x-python",
   "name": "python",
   "nbconvert_exporter": "python",
   "pygments_lexer": "ipython3",
   "version": "3.6.7"
  }
 },
 "nbformat": 4,
 "nbformat_minor": 2
}
